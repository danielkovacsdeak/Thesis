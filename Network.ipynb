{
 "cells": [
  {
   "cell_type": "code",
   "execution_count": 1,
   "metadata": {},
   "outputs": [
    {
     "name": "stdout",
     "output_type": "stream",
     "text": [
      "Populating the interactive namespace from numpy and matplotlib\n"
     ]
    }
   ],
   "source": [
    "%pylab inline\n",
    "import json\n",
    "import ipywidgets\n",
    "import time"
   ]
  },
  {
   "cell_type": "code",
   "execution_count": 2,
   "metadata": {
    "collapsed": true
   },
   "outputs": [],
   "source": [
    "network = [[1,2,3], [0, 2], [0,1], [0]]\n",
    "deg = [len(l) for l in network]\n",
    "\n",
    "m = 1\n",
    "\n",
    "def evolve(m): # ads a new nod to the network, with m new links  \n",
    "    '''\n",
    "    @summary: ads a new nod to the network, with 'm' new links\n",
    "    @param m: number of new links with which the new node join to the exsiting network\n",
    "    @type m: int\n",
    "    '''\n",
    "    deg = [len(l) for l in network]\n",
    "    s = cumsum(deg)\n",
    "    new = []\n",
    "    while len(new) < m:\n",
    "        r = random.uniform(high = s[-1])\n",
    "        i = 0 if r < s[0] else int(argwhere(s > r)[0][0])\n",
    "        if i in new:\n",
    "            continue\n",
    "        new.append(i)\n",
    "    network.append(new)\n",
    "    deg.append(m)\n",
    "    N = len(network) - 1\n",
    "    for n in new:\n",
    "        try:\n",
    "            network[n].append(N)\n",
    "            deg[n] += 1\n",
    "        except:\n",
    "            print('ERROR')\n",
    "\n",
    "def adjlist(filename, network):\n",
    "    '''\n",
    "    @summary: saving to adjlist for visualisation with networkx\n",
    "    @param filename: the name of the output file (like: \"adjlist.txt\")\n",
    "    @type filename: str\n",
    "    @param network: the list of list which stores the network (like: [[1, 2], [0], [0]])\n",
    "    @type network: list\n",
    "    '''\n",
    "    with open(filename, 'w') as f:\n",
    "        for i, l in enumerate(network):\n",
    "            f.write('%d %s\\n' %(i, ' '.join(map(lambda x: str(x), l))))\n",
    "\n",
    "def load(SIZE, m):\n",
    "    '''\n",
    "    @summary: ads 'SIZE' new nodes to the network\n",
    "    @param SIZE: the number of nodes to add to the network\n",
    "    @type SIZE: int\n",
    "    @param m: number of new links with which the new node join to the exsiting network\n",
    "    @type m: int\n",
    "    '''\n",
    "    pb = ipywidgets.IntProgress(max = SIZE - 1)\n",
    "    display(pb)\n",
    "    for i in range(SIZE):\n",
    "        if i % 50:\n",
    "            pb.value = i\n",
    "            pass\n",
    "        evolve(m)"
   ]
  },
  {
   "cell_type": "code",
   "execution_count": 10,
   "metadata": {},
   "outputs": [
    {
     "data": {
      "application/vnd.jupyter.widget-view+json": {
       "model_id": "c0fbc3a6afe445a99e1776a0759edd83",
       "version_major": 2,
       "version_minor": 0
      },
      "text/plain": [
       "A Jupyter Widget"
      ]
     },
     "metadata": {},
     "output_type": "display_data"
    },
    {
     "name": "stdout",
     "output_type": "stream",
     "text": [
      "45.078978061676025\n"
     ]
    },
    {
     "data": {
      "application/vnd.jupyter.widget-view+json": {
       "model_id": "6dc31f6bd1e84cfa9244add8e2c65f9c",
       "version_major": 2,
       "version_minor": 0
      },
      "text/plain": [
       "A Jupyter Widget"
      ]
     },
     "metadata": {},
     "output_type": "display_data"
    }
   ],
   "source": [
    "start = time.time()\n",
    "network = [[1,2,3], [0, 2], [0,1], [0]]\n",
    "m = 4\n",
    "load(10000, m)\n",
    "print(time.time() - start)\n",
    "#saving to txt:\n",
    "with open(\"network_m\"+str(m)+\".txt\", \"w\") as output:\n",
    "    json.dump(network, output)\n",
    "# a smaller one for visualisation:\n",
    "network = [[1,2,3], [0, 2], [0,1], [0]]\n",
    "m = 4\n",
    "load(100, m)\n",
    "# saving to adjlist for visualisation\n",
    "adjlist(\"adjlist.txt\", network)"
   ]
  },
  {
   "cell_type": "code",
   "execution_count": 6,
   "metadata": {
    "collapsed": true
   },
   "outputs": [],
   "source": [
    "deg = [len(l) for l in network]\n",
    "H = {}\n",
    "for d in deg:\n",
    "    if d in H:\n",
    "        H[d] += 1\n",
    "    else:\n",
    "        H[d] = 1\n",
    "x = list(H.keys())\n",
    "y = list(H.values())"
   ]
  },
  {
   "cell_type": "code",
   "execution_count": 9,
   "metadata": {},
   "outputs": [
    {
     "data": {
      "text/plain": [
       "Text(0,0.5,'Number of nodes')"
      ]
     },
     "execution_count": 9,
     "metadata": {},
     "output_type": "execute_result"
    },
    {
     "data": {
      "image/png": "[encoded data removed]",
      "text/plain": [
       "<matplotlib.figure.Figure at 0x1d69691f390>"
      ]
     },
     "metadata": {},
     "output_type": "display_data"
    }
   ],
   "source": [
    "figsize(9,4) #ábraméret nagyítása vízszintesen\n",
    "subplot(1,2,2)\n",
    "loglog(H.keys(), H.values(), '.')\n",
    "title('Generated network\\'s degree distribution \\n log-log figure')\n",
    "xlabel('Degree')\n",
    "ylabel('Number of nodes')\n",
    "subplot(1,2,1)\n",
    "plot(deg[:3000], '.')\n",
    "title('Generated network\\'s degree distribution \\n first 3000 points')\n",
    "xlabel('Degree')\n",
    "ylabel('Number of nodes')"
   ]
  }
 ],
 "metadata": {
  "kernelspec": {
   "display_name": "Python 3",
   "language": "python",
   "name": "python3"
  },
  "language_info": {
   "codemirror_mode": {
    "name": "ipython",
    "version": 3
   },
   "file_extension": ".py",
   "mimetype": "text/x-python",
   "name": "python",
   "nbconvert_exporter": "python",
   "pygments_lexer": "ipython3",
   "version": "3.6.3"
  }
 },
 "nbformat": 4,
 "nbformat_minor": 2
}

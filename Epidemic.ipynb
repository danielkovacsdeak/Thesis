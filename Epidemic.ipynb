{
 "cells": [
  {
   "cell_type": "code",
   "execution_count": 1,
   "metadata": {},
   "outputs": [
    {
     "name": "stdout",
     "output_type": "stream",
     "text": [
      "Populating the interactive namespace from numpy and matplotlib\n"
     ]
    }
   ],
   "source": [
    "%pylab inline\n",
    "import ipywidgets\n",
    "import random\n",
    "import ast\n",
    "import json"
   ]
  },
  {
   "cell_type": "code",
   "execution_count": 3,
   "metadata": {},
   "outputs": [],
   "source": [
    "# Loading the network file from txt:\n",
    "with open('network_m4.txt') as f:\n",
    "    network = json.load(f)\n",
    "Network = network\n",
    "N = len(network) # as the number of nodes is constant worth storing in a global variable"
   ]
  },
  {
   "cell_type": "code",
   "execution_count": 6,
   "metadata": {
    "collapsed": true
   },
   "outputs": [],
   "source": [
    "def Init(initial_infection):\n",
    "    '''\n",
    "    @summary: To start the spreading process we need some initially infected nodes, this function creates them\n",
    "    @param initial_infection: The number of infected nodes at the begining of the process\n",
    "    @type initial_infection: int\n",
    "    '''\n",
    "    init = [] \n",
    "    init = random.sample(range(0, len(network)), initial_infection) # fills the list with initial_infection times different random numbers\n",
    "    init.sort()\n",
    "    for i in range(len(network)):\n",
    "        if i in init:\n",
    "            infected[i] = 1\n",
    "        else:\n",
    "            infected[i] = 0\n",
    "\n",
    "def onePerLink():\n",
    "    '''\n",
    "    @summary: If a node is infected all of its links have the probability to infect. The first step is to check if the infected node heals, then go through every link to chek if infects.\n",
    "    '''\n",
    "    newInfected = []\n",
    "    for i, l in enumerate(network):\n",
    "        if infected[i] == 1:\n",
    "            if healing_prob > uniform():\n",
    "                infected[i] = 0\n",
    "            else:\n",
    "                for j in l:\n",
    "                    if infection_prob > uniform():\n",
    "                        newInfected.append(j)\n",
    "    for i in newInfected:\n",
    "        infected[i] = 1\n",
    "        \n",
    "            \n",
    "def onePerNode():\n",
    "    '''\n",
    "    @summary: If a node is infected only one of its links has the probability to infect. The first step is to check if the infected node heals, then check if it infects, if so we chose one random link. \n",
    "    '''\n",
    "    newInfected = []\n",
    "    for i, l in enumerate(network):\n",
    "        if infected[i] == 1:\n",
    "            r = uniform()\n",
    "            if healing_prob > r:\n",
    "                infected[i] = 0\n",
    "            elif effective_inf_prob > r:\n",
    "                newInfected.append(l[randint(len(l))])\n",
    "    for i in newInfected:\n",
    "        infected[i] = 1\n",
    "        \n",
    "def Epidemic(numberOfSteps):\n",
    "    '''\n",
    "    @summmary: iterates over the network numberOfSteps times with onePerLink spreading type\n",
    "    @param numberOfSteps: number of iteration steps\n",
    "    @type numberOfSteps: int\n",
    "    @returns [{list}] [returns with infection-over-time list]\n",
    "    '''\n",
    "    I = []\n",
    "    for i in range(numberOfSteps):\n",
    "        onePerLink()\n",
    "        s = sum(infected)\n",
    "        #if s == N or s == 0:\n",
    "        #    break\n",
    "        I.append(s)\n",
    "    return I\n",
    "\n",
    "def steadyState(mylist, needplot):\n",
    "    '''\n",
    "    * Counts averages. First for all the  data, then drops the first point, then drops the first 2 points, ...\n",
    "    * Checks infection point in this list of averages.\n",
    "    @summary: gives the point where the process reaches the steady-state and the average value in the steady-state\n",
    "    @param {list} mylist: the list of the spreading process\n",
    "    @param {int} length: how long \n",
    "    @param {boolean} needplot: if True, the function will plot the process, with the \"steady-state point\"\n",
    "    @returns [{list}] [returns with steady-state's mean, time step where reaches steady-state, standard deviation of steady-state in a list]\n",
    "    '''\n",
    "    def avg(mylist):\n",
    "        return sum(mylist)/len(mylist)\n",
    "    def fromHere(mylist, value):\n",
    "        i = 0\n",
    "        while mylist[i] < value:\n",
    "            i += 1\n",
    "        return i\n",
    "    y = []\n",
    "    inflection = True\n",
    "    inf = 0\n",
    "    i = 0\n",
    "    while inflection and i < len(mylist):\n",
    "        y.append(mean(mylist[i:]))\n",
    "        if y[i] < y[i-1]:\n",
    "            inflection = False\n",
    "            inf = i\n",
    "        i += 1\n",
    "    if needplot:\n",
    "        plot(mylist)    \n",
    "        plot(fromHere(mylist, y[inf]), mylist[fromHere(mylist, y[inf])], marker='o')\n",
    "    Return = [mean(mylist[inf:]), fromHere(mylist, y[inf]), std(mylist[inf:])]\n",
    "    return Return"
   ]
  },
  {
   "cell_type": "code",
   "execution_count": 9,
   "metadata": {},
   "outputs": [
    {
     "data": {
      "text/plain": [
       "Text(0,0.5,'number of infected nodes')"
      ]
     },
     "execution_count": 9,
     "metadata": {},
     "output_type": "execute_result"
    },
    {
     "data": {
      "image/png": "[encoded data removed]",
      "text/plain": [
       "<matplotlib.figure.Figure at 0x1b9416b1668>"
      ]
     },
     "metadata": {},
     "output_type": "display_data"
    }
   ],
   "source": [
    "initial_infection = 42 # number of nodes which are infected at t = 0\n",
    "infection_prob = 0.5\n",
    "healing_prob = 0.8\n",
    "effective_inf_prob = infection_prob*(1 - healing_prob)\n",
    "infected = [0] * (len(network))\n",
    "Init(initial_infection)\n",
    "steadyState(Epidemic(50), True)\n",
    "title('Steady-state')\n",
    "xlabel('time')\n",
    "ylabel('number of infected nodes')"
   ]
  }
 ],
 "metadata": {
  "kernelspec": {
   "display_name": "Python 3",
   "language": "python",
   "name": "python3"
  },
  "language_info": {
   "codemirror_mode": {
    "name": "ipython",
    "version": 3
   },
   "file_extension": ".py",
   "mimetype": "text/x-python",
   "name": "python",
   "nbconvert_exporter": "python",
   "pygments_lexer": "ipython3",
   "version": "3.6.3"
  }
 },
 "nbformat": 4,
 "nbformat_minor": 2
}
